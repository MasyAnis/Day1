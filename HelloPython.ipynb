{
 "cells": [
  {
   "cell_type": "markdown",
   "id": "ce663df8-0aa4-4487-888c-b7428198f6f4",
   "metadata": {},
   "source": [
    "# My First Hello World in Python"
   ]
  },
  {
   "cell_type": "code",
   "execution_count": 1,
   "id": "a8ee075f-1191-477f-aa07-74a6b989b392",
   "metadata": {},
   "outputs": [
    {
     "name": "stdout",
     "output_type": "stream",
     "text": [
      "Hello, World!\n"
     ]
    }
   ],
   "source": [
    "print (\"Hello, World!\")"
   ]
  },
  {
   "cell_type": "markdown",
   "id": "898ea4e2-f435-43d1-a630-d7e49ee8be3d",
   "metadata": {},
   "source": [
    "# Indentation"
   ]
  },
  {
   "cell_type": "code",
   "execution_count": 2,
   "id": "9cc83e54-154c-4003-b49a-a24ed323549e",
   "metadata": {},
   "outputs": [
    {
     "name": "stdout",
     "output_type": "stream",
     "text": [
      "NO!\n"
     ]
    }
   ],
   "source": [
    "x = 5\n",
    "\n",
    "if x < 3:\n",
    "    print (\"YES!\")\n",
    "else:\n",
    "    print (\"NO!\")"
   ]
  },
  {
   "cell_type": "code",
   "execution_count": 5,
   "id": "251de5dd-c221-4bb2-a1bf-1b495c0e0f0f",
   "metadata": {},
   "outputs": [
    {
     "name": "stdout",
     "output_type": "stream",
     "text": [
      "YES!\n"
     ]
    }
   ],
   "source": [
    "x = 5\n",
    "\n",
    "if x < 8:\n",
    "    print (\"YES!\")\n",
    "else:\n",
    "    print (\"NO!\")"
   ]
  },
  {
   "cell_type": "code",
   "execution_count": 7,
   "id": "02f85f1f-aa3a-427e-b4fe-97763c02d2a3",
   "metadata": {},
   "outputs": [
    {
     "ename": "IndentationError",
     "evalue": "expected an indented block after 'if' statement on line 3 (1491204196.py, line 4)",
     "output_type": "error",
     "traceback": [
      "\u001b[0;36m  Cell \u001b[0;32mIn[7], line 4\u001b[0;36m\u001b[0m\n\u001b[0;31m    print (\"YES!\")\u001b[0m\n\u001b[0m    ^\u001b[0m\n\u001b[0;31mIndentationError\u001b[0m\u001b[0;31m:\u001b[0m expected an indented block after 'if' statement on line 3\n"
     ]
    }
   ],
   "source": [
    "x = 5\n",
    "\n",
    "if x < 8:\n",
    "print (\"YES!\")\n",
    "else:\n",
    "print (\"NO!\")"
   ]
  },
  {
   "cell_type": "code",
   "execution_count": 6,
   "id": "b16687d6-cb4a-4296-8f49-d6d650eac125",
   "metadata": {},
   "outputs": [],
   "source": [
    "#my first comment"
   ]
  },
  {
   "cell_type": "markdown",
   "id": "b4fcbfdb-036e-434b-9aed-751eb7ade147",
   "metadata": {},
   "source": [
    "# Variable"
   ]
  },
  {
   "cell_type": "code",
   "execution_count": 8,
   "id": "092bcbf2-54a0-4c8f-b7ac-0ce7980cb6c6",
   "metadata": {},
   "outputs": [
    {
     "name": "stdout",
     "output_type": "stream",
     "text": [
      "my comment\n"
     ]
    }
   ],
   "source": [
    "\"\"\"\n",
    "This is 1st comment\n",
    "This is 2nd comment\n",
    "\"\"\"\n",
    "\n",
    "print (\"my comment\")"
   ]
  },
  {
   "cell_type": "code",
   "execution_count": 9,
   "id": "40fea68d-604e-4517-a998-00cacc31e0bd",
   "metadata": {},
   "outputs": [],
   "source": [
    "#integer\n",
    "age =25\n",
    "\n",
    "#float\n",
    "temperature = 25.5\n",
    "\n",
    "#string\n",
    "greet = \"hello world\""
   ]
  },
  {
   "cell_type": "code",
   "execution_count": 10,
   "id": "5508b14f-f032-4a1d-af9b-0ffe85b4ac80",
   "metadata": {},
   "outputs": [
    {
     "name": "stdout",
     "output_type": "stream",
     "text": [
      "Age: 25\n"
     ]
    }
   ],
   "source": [
    "print (\"Age:\", age)"
   ]
  },
  {
   "cell_type": "code",
   "execution_count": 11,
   "id": "b889dd61-ed6c-4870-8d0b-7a86b7525936",
   "metadata": {},
   "outputs": [
    {
     "name": "stdout",
     "output_type": "stream",
     "text": [
      "temperature: 25.5\n"
     ]
    }
   ],
   "source": [
    "print (\"temperature:\", temperature)"
   ]
  },
  {
   "cell_type": "code",
   "execution_count": 12,
   "id": "a0f652bf-7afa-4390-b2d2-232e769c1e73",
   "metadata": {},
   "outputs": [
    {
     "name": "stdout",
     "output_type": "stream",
     "text": [
      "Greet: hello world\n"
     ]
    }
   ],
   "source": [
    "print (\"Greet:\", greet)"
   ]
  },
  {
   "cell_type": "markdown",
   "id": "f5fea2ad-cf83-4dd6-989d-a42da413599a",
   "metadata": {},
   "source": [
    "# Data Type"
   ]
  },
  {
   "cell_type": "code",
   "execution_count": 13,
   "id": "46136def-22a5-415c-a64e-85b15f805a20",
   "metadata": {},
   "outputs": [
    {
     "name": "stdout",
     "output_type": "stream",
     "text": [
      "<class 'int'>\n",
      "<class 'float'>\n",
      "<class 'str'>\n"
     ]
    }
   ],
   "source": [
    "print (type(age))\n",
    "print (type(temperature))\n",
    "print (type(greet))"
   ]
  },
  {
   "cell_type": "markdown",
   "id": "25498919-7ac3-4954-9c09-8ae2540ea34a",
   "metadata": {},
   "source": [
    "# Prompting"
   ]
  },
  {
   "cell_type": "code",
   "execution_count": 14,
   "id": "3a14fff2-b46a-4cae-8fd4-ab74ef3c83a7",
   "metadata": {},
   "outputs": [
    {
     "name": "stdin",
     "output_type": "stream",
     "text": [
      "How old are you?: 32\n",
      "How tall are you?: 150\n",
      "How much do you weight?: 62\n"
     ]
    },
    {
     "name": "stdout",
     "output_type": "stream",
     "text": [
      " So you are age is 32, height is150, weight is 62\n"
     ]
    }
   ],
   "source": [
    "age = input (\"How old are you?:\")\n",
    "height = input (\"How tall are you?:\")\n",
    "weight =  input (\"How much do you weight?:\")\n",
    "\n",
    "print (f\" So you are age is {age}, height is{height}, weight is {weight}\")"
   ]
  },
  {
   "cell_type": "code",
   "execution_count": 15,
   "id": "853a451e-9e1a-4fb7-8c1a-3993f3fcb24f",
   "metadata": {},
   "outputs": [
    {
     "name": "stdin",
     "output_type": "stream",
     "text": [
      "How old are you?: 2\n",
      "How tall are you?: 100\n",
      "How much do you weight?: 15\n"
     ]
    },
    {
     "name": "stdout",
     "output_type": "stream",
     "text": [
      "So you are age is 2, height is 100, weight is 15\n"
     ]
    }
   ],
   "source": [
    "age = input (\"How old are you?:\")\n",
    "height = input (\"How tall are you?:\")\n",
    "weight =  input (\"How much do you weight?:\")\n",
    "\n",
    "print (f\"So you are age is {age}, height is {height}, weight is {weight}\")"
   ]
  },
  {
   "cell_type": "code",
   "execution_count": 16,
   "id": "2b6e4c66-d470-469f-9779-986e623ff7a2",
   "metadata": {},
   "outputs": [
    {
     "name": "stdin",
     "output_type": "stream",
     "text": [
      "How old are you?: 7\n",
      "How tall are you?: 15\n",
      "How much do you weight?: 140\n"
     ]
    },
    {
     "name": "stdout",
     "output_type": "stream",
     "text": [
      "So you are age is 7 years old, height is 15 cm, weight is 140 kg\n"
     ]
    }
   ],
   "source": [
    "age = input (\"How old are you?:\")\n",
    "height = input (\"How tall are you?:\")\n",
    "weight =  input (\"How much do you weight?:\")\n",
    "\n",
    "print (f\"So you are age is {age} years old, height is {height} cm, weight is {weight} kg\")"
   ]
  },
  {
   "cell_type": "markdown",
   "id": "ba9ef331-2605-4a21-a5cd-766a6574ef24",
   "metadata": {},
   "source": [
    "# Lists"
   ]
  },
  {
   "cell_type": "code",
   "execution_count": 17,
   "id": "7122589e-ed00-4837-87ce-77a76023e1e9",
   "metadata": {},
   "outputs": [],
   "source": [
    "fruit = [\"apple\", \"banana\", \"cherry\"]"
   ]
  },
  {
   "cell_type": "code",
   "execution_count": 19,
   "id": "c39bb548-ce2d-4214-8bbc-b1bf41196fa0",
   "metadata": {},
   "outputs": [
    {
     "name": "stdout",
     "output_type": "stream",
     "text": [
      "cherry\n"
     ]
    }
   ],
   "source": [
    "print (fruit[2])"
   ]
  },
  {
   "cell_type": "code",
   "execution_count": 20,
   "id": "50c16596-14b9-4021-ae7e-779b38800bf4",
   "metadata": {},
   "outputs": [
    {
     "ename": "SyntaxError",
     "evalue": "closing parenthesis ']' does not match opening parenthesis '(' (4081629391.py, line 1)",
     "output_type": "error",
     "traceback": [
      "\u001b[0;36m  Cell \u001b[0;32mIn[20], line 1\u001b[0;36m\u001b[0m\n\u001b[0;31m    print (fruit[3]]\u001b[0m\n\u001b[0m                   ^\u001b[0m\n\u001b[0;31mSyntaxError\u001b[0m\u001b[0;31m:\u001b[0m closing parenthesis ']' does not match opening parenthesis '('\n"
     ]
    }
   ],
   "source": [
    "print (fruit[3]]"
   ]
  },
  {
   "cell_type": "code",
   "execution_count": 22,
   "id": "e4c8e0bf-8f5c-4f0a-a439-2b1df48733eb",
   "metadata": {},
   "outputs": [
    {
     "name": "stdout",
     "output_type": "stream",
     "text": [
      "['apple', 'strawberry', 'cherry']\n"
     ]
    }
   ],
   "source": [
    "fruit[1] = \"strawberry\"\n",
    "\n",
    "print (fruit)"
   ]
  },
  {
   "cell_type": "markdown",
   "id": "67f9a391-dd05-4529-8e20-c318b3cbfaea",
   "metadata": {},
   "source": [
    "# Tuples"
   ]
  },
  {
   "cell_type": "code",
   "execution_count": 23,
   "id": "542fa6d9-79a2-4722-ae88-d6a44c1e9826",
   "metadata": {},
   "outputs": [
    {
     "name": "stdout",
     "output_type": "stream",
     "text": [
      "10\n"
     ]
    }
   ],
   "source": [
    "coordinates =  (10,20)\n",
    "print (coordinates [0])"
   ]
  },
  {
   "cell_type": "code",
   "execution_count": 26,
   "id": "d0f8330f-7162-43a8-8dd7-559b838c0917",
   "metadata": {},
   "outputs": [
    {
     "name": "stdout",
     "output_type": "stream",
     "text": [
      "20\n"
     ]
    }
   ],
   "source": [
    "print(coordinates[1])"
   ]
  },
  {
   "cell_type": "code",
   "execution_count": 27,
   "id": "0349fb98-773d-497e-8f73-0d060ee08765",
   "metadata": {},
   "outputs": [
    {
     "ename": "IndexError",
     "evalue": "tuple index out of range",
     "output_type": "error",
     "traceback": [
      "\u001b[0;31m---------------------------------------------------------------------------\u001b[0m",
      "\u001b[0;31mIndexError\u001b[0m                                Traceback (most recent call last)",
      "Cell \u001b[0;32mIn[27], line 1\u001b[0m\n\u001b[0;32m----> 1\u001b[0m \u001b[38;5;28mprint\u001b[39m (\u001b[43mcoordinates\u001b[49m\u001b[43m \u001b[49m\u001b[43m[\u001b[49m\u001b[38;5;241;43m2\u001b[39;49m\u001b[43m]\u001b[49m)\n",
      "\u001b[0;31mIndexError\u001b[0m: tuple index out of range"
     ]
    }
   ],
   "source": [
    "print (coordinates [2])"
   ]
  },
  {
   "cell_type": "markdown",
   "id": "9c3faf78-b90b-48f0-ada7-cc8299b4f131",
   "metadata": {},
   "source": [
    "# Dictionaries"
   ]
  },
  {
   "cell_type": "code",
   "execution_count": 29,
   "id": "cf0945d7-905c-4136-9a82-09cb3f26d698",
   "metadata": {},
   "outputs": [
    {
     "name": "stdout",
     "output_type": "stream",
     "text": [
      "ALice\n"
     ]
    }
   ],
   "source": [
    "person = {\"name\": \"ALice\", \"age\":25}\n",
    "print (person[\"name\"])"
   ]
  },
  {
   "cell_type": "code",
   "execution_count": 30,
   "id": "6b8dd47a-4ad1-4670-b632-68ae6b6f926d",
   "metadata": {},
   "outputs": [
    {
     "name": "stdout",
     "output_type": "stream",
     "text": [
      "{'name': 'ALice', 'age': 35}\n"
     ]
    }
   ],
   "source": [
    "#update the value\n",
    "person [\"age\"] = 35\n",
    "print (person)"
   ]
  },
  {
   "cell_type": "markdown",
   "id": "7ee5b4fa-26d2-4b5b-a95f-b5cfc7aeca56",
   "metadata": {},
   "source": [
    "# Loop"
   ]
  },
  {
   "cell_type": "code",
   "execution_count": 31,
   "id": "b7db8c47-c105-4130-aee6-99935b9c08bb",
   "metadata": {},
   "outputs": [
    {
     "name": "stdout",
     "output_type": "stream",
     "text": [
      "apple\n",
      "strawberry\n",
      "cherry\n"
     ]
    }
   ],
   "source": [
    "for x in fruit:\n",
    "    print (x)"
   ]
  },
  {
   "cell_type": "markdown",
   "id": "63bd12d0-018e-4102-9c4b-a38fefc3d1e7",
   "metadata": {},
   "source": [
    "# Funtions"
   ]
  },
  {
   "cell_type": "code",
   "execution_count": 1,
   "id": "95f2a4a6-47c3-48da-9315-2c5ecc7596c1",
   "metadata": {},
   "outputs": [
    {
     "name": "stdout",
     "output_type": "stream",
     "text": [
      "22\n",
      "27\n",
      "48\n"
     ]
    }
   ],
   "source": [
    "def multiply (x,y):\n",
    "    return 5 * x +  y\n",
    "\n",
    "print (multiply (3,7))\n",
    "print (multiply (5,2))\n",
    "print (multiply(9,3))"
   ]
  },
  {
   "cell_type": "code",
   "execution_count": 2,
   "id": "87399b78-4189-48b2-9fcf-25b3886aaddc",
   "metadata": {},
   "outputs": [
    {
     "ename": "TypeError",
     "evalue": "multiply() missing 1 required positional argument: 'y'",
     "output_type": "error",
     "traceback": [
      "\u001b[0;31m---------------------------------------------------------------------------\u001b[0m",
      "\u001b[0;31mTypeError\u001b[0m                                 Traceback (most recent call last)",
      "Cell \u001b[0;32mIn[2], line 4\u001b[0m\n\u001b[1;32m      1\u001b[0m \u001b[38;5;28;01mdef\u001b[39;00m \u001b[38;5;21mmultiply\u001b[39m (x,y):\n\u001b[1;32m      2\u001b[0m     \u001b[38;5;28;01mreturn\u001b[39;00m \u001b[38;5;241m5\u001b[39m \u001b[38;5;241m*\u001b[39m x \u001b[38;5;241m+\u001b[39m  y\n\u001b[0;32m----> 4\u001b[0m \u001b[38;5;28mprint\u001b[39m (\u001b[43mmultiply\u001b[49m\u001b[43m \u001b[49m\u001b[43m(\u001b[49m\u001b[38;5;241;43m3\u001b[39;49m\u001b[43m)\u001b[49m)\n\u001b[1;32m      5\u001b[0m \u001b[38;5;28mprint\u001b[39m (multiply (\u001b[38;5;241m5\u001b[39m,\u001b[38;5;241m2\u001b[39m))\n\u001b[1;32m      6\u001b[0m \u001b[38;5;28mprint\u001b[39m (multiply(\u001b[38;5;241m9\u001b[39m,\u001b[38;5;241m3\u001b[39m))\n",
      "\u001b[0;31mTypeError\u001b[0m: multiply() missing 1 required positional argument: 'y'"
     ]
    }
   ],
   "source": [
    "def multiply (x,y):\n",
    "    return 5 * x +  y\n",
    "\n",
    "print (multiply (3))\n",
    "print (multiply (5,2))\n",
    "print (multiply(9,3))"
   ]
  },
  {
   "cell_type": "code",
   "execution_count": null,
   "id": "73b7c394-f10a-4857-80cf-25627b9c3735",
   "metadata": {},
   "outputs": [],
   "source": []
  }
 ],
 "metadata": {
  "kernelspec": {
   "display_name": "Python 3 (ipykernel)",
   "language": "python",
   "name": "python3"
  },
  "language_info": {
   "codemirror_mode": {
    "name": "ipython",
    "version": 3
   },
   "file_extension": ".py",
   "mimetype": "text/x-python",
   "name": "python",
   "nbconvert_exporter": "python",
   "pygments_lexer": "ipython3",
   "version": "3.10.12"
  }
 },
 "nbformat": 4,
 "nbformat_minor": 5
}
